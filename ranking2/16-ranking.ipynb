{
 "cells": [
  {
   "cell_type": "markdown",
   "metadata": {},
   "source": [
    "# Introduction to Data Science, CS 5963 / Math 3900\n",
    "## Lecture 16: Rating/Ranking\n",
    "\n",
    "We introduce the least squares, a.k.a. HodgeRank, method for rating. "
   ]
  },
  {
   "cell_type": "code",
   "execution_count": 1,
   "metadata": {
    "collapsed": true
   },
   "outputs": [],
   "source": [
    "import numpy as np"
   ]
  },
  {
   "cell_type": "markdown",
   "metadata": {},
   "source": [
    "### Least Squares Ranking\n",
    "\n",
    "We consider the following hypothetical sports problem. There are four teams: Utah (U), BYU (Y), Colorado (C), and Idaho (I). Five games are played with the following results:\n",
    "\n",
    "U vs Y: 20 - 10 \n",
    "\n",
    "Y vs C: 7 - 10\n",
    "\n",
    "U vs C: 10 -10\n",
    "\n",
    "U vs I: 10 - 7\n",
    "\n",
    "I vs Y: 7 - 7\n",
    "\n",
    "We first construct the pairwise comparisons, $y_{i,j}$ defined by\n",
    "$$\n",
    "y_{i,j} = \\frac{\\text{points team $j$ scored - points team $i$ scored}}{\\text{total points in game}}. \n",
    "$$"
   ]
  },
  {
   "cell_type": "code",
   "execution_count": 2,
   "metadata": {
    "collapsed": false
   },
   "outputs": [
    {
     "name": "stdout",
     "output_type": "stream",
     "text": [
      "[[20 10]\n",
      " [ 7 10]\n",
      " [10 10]\n",
      " [10  7]\n",
      " [ 7  7]]\n",
      "[-0.33333333  0.17647059  0.         -0.17647059  0.        ]\n"
     ]
    }
   ],
   "source": [
    "scores = np.array([(20, 10), (7, 10), (10, 10), (10, 7), (7, 7)])\n",
    "print(scores)\n",
    "\n",
    "y = (scores[:,1] - scores[:,0]) / (scores[:,0] + scores[:,1])\n",
    "print(y)"
   ]
  },
  {
   "cell_type": "markdown",
   "metadata": {},
   "source": [
    "We also number the teams"
   ]
  },
  {
   "cell_type": "code",
   "execution_count": 3,
   "metadata": {
    "collapsed": false
   },
   "outputs": [
    {
     "name": "stdout",
     "output_type": "stream",
     "text": [
      "0: Utah (U)\n",
      "1: BYU (Y)\n",
      "2: Colorado (C)\n",
      "3: Idaho (I)\n"
     ]
    }
   ],
   "source": [
    "teams = ['Utah (U)','BYU (Y)','Colorado (C)','Idaho (I)']\n",
    "for i,t in enumerate(teams):\n",
    "    print(str(i) + ': ' + t)\n"
   ]
  },
  {
   "cell_type": "markdown",
   "metadata": {},
   "source": [
    "Construct the arc-vertex incidence matrix\n",
    "$$\n",
    "B_{k,j} = \\begin{cases}\n",
    "1 & j = \\textrm{head}(k) \\\\\n",
    "-1 & j = \\textrm{tail}(k) \\\\\n",
    "0 & \\textrm{otherwise}. \n",
    "\\end{cases}\n",
    "$$\n",
    "This just keeps track of which teams have played which teams. "
   ]
  },
  {
   "cell_type": "code",
   "execution_count": 4,
   "metadata": {
    "collapsed": false
   },
   "outputs": [
    {
     "name": "stdout",
     "output_type": "stream",
     "text": [
      "[[-1.  1.  0.  0.]\n",
      " [ 0. -1.  1.  0.]\n",
      " [-1.  0.  1.  0.]\n",
      " [-1.  0.  0.  1.]\n",
      " [ 0.  1.  0. -1.]]\n",
      "BYU (Y) vs. Utah (U): -0.333333333333\n",
      "Colorado (C) vs. BYU (Y): 0.176470588235\n",
      "Colorado (C) vs. Utah (U): 0.0\n",
      "Idaho (I) vs. Utah (U): -0.176470588235\n",
      "BYU (Y) vs. Idaho (I): 0.0\n"
     ]
    }
   ],
   "source": [
    "B = np.zeros((5, 4))\n",
    "\n",
    "B[0,1] = 1; B[0,0] =-1;\n",
    "B[1,2] = 1; B[1,1] =-1; \n",
    "B[2,2] = 1; B[2,0] =-1; \n",
    "B[3,3] = 1; B[3,0] =-1; \n",
    "B[4,1] = 1; B[4,3] =-1; \n",
    "print(B)\n",
    "\n",
    "# now we have enough information just to print the  game results \n",
    "for i,sc in enumerate(y):\n",
    "    head = np.where(B[i,:]==1)[0][0]\n",
    "    tail = np.where(B[i,:]==-1)[0][0]\n",
    "    print(teams[head] + ' vs. ' + teams[tail] + ': ' +str(sc))\n"
   ]
  },
  {
   "cell_type": "markdown",
   "metadata": {},
   "source": [
    "We now use the *lstsq* function in the np.linalg library to find the least squares rating, solving the least squares problem, \n",
    "$$\n",
    "\\min_{\\phi} \\ \\| B \\phi - y \\|^2. \n",
    "$$"
   ]
  },
  {
   "cell_type": "code",
   "execution_count": 5,
   "metadata": {
    "collapsed": false
   },
   "outputs": [
    {
     "name": "stdout",
     "output_type": "stream",
     "text": [
      "[ 0.12745098 -0.12745098  0.08823529 -0.08823529]\n"
     ]
    }
   ],
   "source": [
    "sol = np.linalg.lstsq(B,y)\n",
    "phi = sol[0]\n",
    "print(phi)"
   ]
  },
  {
   "cell_type": "code",
   "execution_count": 6,
   "metadata": {
    "collapsed": false
   },
   "outputs": [
    {
     "name": "stdout",
     "output_type": "stream",
     "text": [
      "Utah (U): rating = 0.127450980392\n",
      "BYU (Y): rating = -0.127450980392\n",
      "Colorado (C): rating = 0.0882352941176\n",
      "Idaho (I): rating = -0.0882352941176\n"
     ]
    }
   ],
   "source": [
    "for i,t in enumerate(teams):\n",
    "    print(t + ': rating = ' + str(phi[i]))"
   ]
  },
  {
   "cell_type": "markdown",
   "metadata": {},
   "source": [
    "You can sort this list and generate a ranking"
   ]
  },
  {
   "cell_type": "code",
   "execution_count": 7,
   "metadata": {
    "collapsed": false
   },
   "outputs": [
    {
     "data": {
      "text/plain": [
       "array([-0.12745098, -0.08823529,  0.08823529,  0.12745098])"
      ]
     },
     "execution_count": 7,
     "metadata": {},
     "output_type": "execute_result"
    }
   ],
   "source": [
    "np.sort(phi,)"
   ]
  }
 ],
 "metadata": {
  "anaconda-cloud": {},
  "kernelspec": {
   "display_name": "Python [Root]",
   "language": "python",
   "name": "Python [Root]"
  },
  "language_info": {
   "codemirror_mode": {
    "name": "ipython",
    "version": 3
   },
   "file_extension": ".py",
   "mimetype": "text/x-python",
   "name": "python",
   "nbconvert_exporter": "python",
   "pygments_lexer": "ipython3",
   "version": "3.5.1"
  }
 },
 "nbformat": 4,
 "nbformat_minor": 0
}

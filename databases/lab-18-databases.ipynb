{
 "cells": [
  {
   "cell_type": "markdown",
   "metadata": {},
   "source": [
    "# Introduction to Data Science, CS 5963 / Math 3900\n",
    "*CS 5963 / MATH 3900, University of Utah, http://datasciencecourse.net/* \n",
    "\n",
    "# Lab 18: Relational Databases\n",
    "\n",
    "Up to now, we've mainly used flat tables to store and process data. Most structured data in the real world, however, is stored in databases, and specifically in [relational databases](https://en.wikipedia.org/wiki/Relational_database). Other database types have specific advantages, such as performance (NoSQL), suitable for graphs (graph databases, e.g., Neo4j), or compatibility with in-memory OO data structures (Object Oriented Databases). Relational databases (and their implementations - Relational Database Management Systems (RDBMS) - are dominant. \n",
    "\n",
    "What's the purpose of a relational database? It separates data into multiple tables to avoid redundancy. Here is a simple example for an online transaction. Here's the flat table that describes the data:\n",
    "\n",
    "| Product Name | Price | Product Description | Customer Name | Customer Address| \n",
    "| ------------- | - | - | - | -| \n",
    "| MacBook | 2700 | MacBook Pro 15' | Jack Black | San Francisco |  \n",
    "| Dongle HDMI | 40 | USB-C to HDMI | Jack Black | San Francisco | \n",
    "| Dongle USB-B | 40 | USB-C to USB-B | Jack Black | San Francisco | \n",
    "\n",
    "The problem here is that we store the name of the customer multiple times, and, if multiple customers purchase the same item, also all the information about the products. Obviously, that's neither great from a storage efficiency perspective nor from an update perspective. If Jack Black wants to update his address, for example, than we'd have to update all three rows. \n",
    "\n",
    "A different approach is to separate this table into multiple, meaningful tables. We'll introduce a Customers, Products and a Transactions table. And we'll introduce keys for each row in this table:\n",
    "\n",
    "\n",
    "Table Customers:\n",
    "\n",
    "| CID | Customer Name | Customer Address | \n",
    "| - | - | - |\n",
    "| 1 | Jack Black | San Francisco |\n",
    "\n",
    "Table Products:\n",
    "\n",
    "| PID | Product Name | Price | Product Description |\n",
    "| - | - | - | - | \n",
    "| 1 | MacBook | 2700 | MacBook Pro 15' |\n",
    "| 2 | Dongle HDMI | 40 | USB-C to HDMI |\n",
    "| 3 | Dongle USB-B | 40 | USB-C to USB-B |\n",
    "\n",
    "CID and PID are called **primary keys**, as they uniquely identify the row in the table. \n",
    "\n",
    "The Transaction Table now refers to the products and the customers only by their keys, which are called **foreign keys** in this context, as they are the primary keys of a \"foreign\" table.\n",
    "\n",
    "Table Transactions: \n",
    "\n",
    "| TID | PID | CID | \n",
    "| - | - | - |\n",
    "| 1 | 1 | 1 | \n",
    "| 2 | 3 | 1 | \n",
    "| 3 | 2 | 1 | \n",
    "\n",
    "Now, if Jack Black wants to update his address, or if the seller wants to update the product description, we can do this in a single place. \n",
    "\n",
    "Of course, we have to do a little more work to regenerate (an interesting subset) of transactions, as we had it before. In this lab we'll learn how to do that and more. \n",
    "\n",
    "## RDBMS Transactions\n",
    "\n",
    "RDBMS are designed to support **read, write, update** transactions, in addition to operations that **create tables**, etc. Database transactions. In practice, for a database to remain consistent, these transactions have to guarantee [certain properties](https://en.wikipedia.org/wiki/ACID). We'll largely ignore updates, creating tables, etc. - these are operations that you'll likely need if you build a web-application. For the purpose of our data science class, we'll stick to reading/querying for data, as we want to learn **how to get data out of a database**. You can learn more about databases in [CS 6530](https://www.cs.utah.edu/~lifeifei/cs6530/) (or the undergrad version CS 5530).\n"
   ]
  },
  {
   "cell_type": "markdown",
   "metadata": {},
   "source": [
    "## SQL - The Structured Query Language\n",
    "\n",
    "\n",
    "[SQL](https://en.wikipedia.org/wiki/SQL) is a domain specific language to execute the transactions described above. We'll look mainly at queries, to read and aggregate data. \n",
    "\n",
    "Here is a very simple query:\n",
    "\n",
    "```SQL\n",
    "SELECT * FROM products\n",
    "```\n",
    "\n",
    "This statement selects and retreives all rows (`*`) from the table `products`.\n",
    "\n",
    "We can restrict the lines to retrieve with a `WHERE` clause:\n",
    "\n",
    "```SQL\n",
    "SELECT * FROM products WHERE 'Price' > 100\n",
    "```\n",
    "\n",
    "This retrieves all the rows where the price is higher than 100. \n",
    "\n",
    "We'll go through more specific SQL statements on real examples. You can learn more about SQL [online](https://www.codecademy.com/learn/learn-sql).\n"
   ]
  },
  {
   "cell_type": "markdown",
   "metadata": {},
   "source": [
    "## SQLite\n",
    "\n",
    "Most database management systems are implemented as client-server systems, i.e., the database is hosted on a dedicated server where multiple users can read and write. Examples are [PostgreSQL](https://www.postgresql.org/), [MySQL](https://www.mysql.com/) or [Oracle](https://www.oracle.com/database/index.html). These database management systems are fast and can handle multiple users withouth causing conflicts. However, they require a separate server and installation, so we'll use [SQLite](https://sqlite.org/) an alternative that works for single users and stores the whole database in a single file.  SQLite is widely used in desktop installations and will serve our purposes. \n",
    "\n",
    "We'll also use the [sqlite python interface](https://docs.python.org/3/library/sqlite3.html)."
   ]
  },
  {
   "cell_type": "markdown",
   "metadata": {},
   "source": [
    "## Sample Database\n",
    "\n",
    "This tutorial uses the SQLite sample database found [here](http://www.sqlitetutorial.net/sqlite-sample-database/).\n",
    "\n",
    "Here is a chart of the database schema: \n",
    "\n",
    "![](database_schema.png)"
   ]
  },
  {
   "cell_type": "markdown",
   "metadata": {},
   "source": [
    " * `employees` table stores employees data such as employee id, last name, first name, etc. It also has a field named `ReportsTo` to specify who reports to whom.\n",
    " * `customers` table stores customers data.\n",
    " * `invoices & invoice_items` tables: these two tables store invoice data. The invoices table stores invoice header data and the invoice_items table stores the invoice line items data.\n",
    " * `artists` table stores artists data. It is a simple table that contains only artist id and name.\n",
    " * `albums` table stores data about a list of tracks. Each album belongs to one artist. However, one artist may have multiple albums.\n",
    " * `media_types` table stores media types such as MPEG audio file, ACC audio file, etc.\n",
    " * `genres` table stores music types such as rock, jazz, metal, etc.\n",
    " * `tracks` table store the data of songs. Each track belongs to one album.\n",
    " * `playlists` & `playlist_track` tables: playlists table store data about playlists. Each playlist contains a list of tracks. Each track may belong to multiple playlists. The relationship between the playlists table and tracks table is many-to-many. The playlist_track table is used to reflect this relationship.\n",
    " \n",
    "The diagram above highlights the **primary keys** in each table and the relationships, using **foreign keys** to each other table. Note that `employees` has a self-reference, to capture the reports-to relationship."
   ]
  },
  {
   "cell_type": "markdown",
   "metadata": {},
   "source": [
    "## Querying the Table"
   ]
  },
  {
   "cell_type": "code",
   "execution_count": 1,
   "metadata": {
    "collapsed": false
   },
   "outputs": [
    {
     "name": "stdout",
     "output_type": "stream",
     "text": [
      "(1, 'For Those About To Rock We Salute You', 1)\n"
     ]
    }
   ],
   "source": [
    "import pandas as pd\n",
    "import sqlite3 as sq\n",
    "\n",
    "# we connect to the database, which - in the case of sqlite - is a local file\n",
    "conn = sq.connect(\"./chinook.db\")\n",
    "# we retreive the \"cursor\" on the database.\n",
    "c = conn.cursor()\n",
    "\n",
    "# now we can execute a SQL statement\n",
    "c.execute(\"SELECT * FROM albums\")\n",
    "# and print the first line from the result\n",
    "print(c.fetchone())"
   ]
  },
  {
   "cell_type": "markdown",
   "metadata": {},
   "source": [
    "Here, we used a cursor for accessing the data. To retrieve data after executing a SELECT statement, you can either treat the cursor as an iterator, call the cursor’s `fetchone()` method to retrieve a single matching row, or call `fetchall()` to get a list of the matching rows.\n",
    "\n",
    "This is how you use it as an iterator: "
   ]
  },
  {
   "cell_type": "code",
   "execution_count": 2,
   "metadata": {
    "collapsed": false
   },
   "outputs": [
    {
     "name": "stdout",
     "output_type": "stream",
     "text": [
      "(2, 'Balls to the Wall', 2)\n",
      "(3, 'Restless and Wild', 2)\n",
      "(4, 'Let There Be Rock', 1)\n",
      "(5, 'Big Ones', 3)\n",
      "(6, 'Jagged Little Pill', 4)\n",
      "(7, 'Facelift', 5)\n",
      "(8, 'Warner 25 Anos', 6)\n",
      "(9, 'Plays Metallica By Four Cellos', 7)\n",
      "(10, 'Audioslave', 8)\n",
      "(11, 'Out Of Exile', 8)\n",
      "(12, 'BackBeat Soundtrack', 9)\n",
      "(13, 'The Best Of Billy Cobham', 10)\n",
      "(14, 'Alcohol Fueled Brewtality Live! [Disc 1]', 11)\n",
      "(15, 'Alcohol Fueled Brewtality Live! [Disc 2]', 11)\n",
      "(16, 'Black Sabbath', 12)\n",
      "(17, 'Black Sabbath Vol. 4 (Remaster)', 12)\n",
      "(18, 'Body Count', 13)\n",
      "(19, 'Chemical Wedding', 14)\n",
      "(20, 'The Best Of Buddy Guy - The Millenium Collection', 15)\n",
      "(21, 'Prenda Minha', 16)\n",
      "(22, 'Sozinho Remix Ao Vivo', 16)\n",
      "(23, 'Minha Historia', 17)\n",
      "(24, 'Afrociberdelia', 18)\n",
      "(25, 'Da Lama Ao Caos', 18)\n",
      "(26, 'Acústico MTV [Live]', 19)\n",
      "(27, 'Cidade Negra - Hits', 19)\n",
      "(28, 'Na Pista', 20)\n",
      "(29, 'Axé Bahia 2001', 21)\n",
      "(30, 'BBC Sessions [Disc 1] [Live]', 22)\n",
      "(31, 'Bongo Fury', 23)\n",
      "(32, 'Carnaval 2001', 21)\n",
      "(33, 'Chill: Brazil (Disc 1)', 24)\n",
      "(34, 'Chill: Brazil (Disc 2)', 6)\n",
      "(35, 'Garage Inc. (Disc 1)', 50)\n",
      "(36, 'Greatest Hits II', 51)\n",
      "(37, 'Greatest Kiss', 52)\n",
      "(38, 'Heart of the Night', 53)\n",
      "(39, 'International Superhits', 54)\n",
      "(40, 'Into The Light', 55)\n",
      "(41, 'Meus Momentos', 56)\n",
      "(42, 'Minha História', 57)\n",
      "(43, 'MK III The Final Concerts [Disc 1]', 58)\n",
      "(44, 'Physical Graffiti [Disc 1]', 22)\n",
      "(45, 'Sambas De Enredo 2001', 21)\n",
      "(46, 'Supernatural', 59)\n",
      "(47, 'The Best of Ed Motta', 37)\n",
      "(48, 'The Essential Miles Davis [Disc 1]', 68)\n",
      "(49, 'The Essential Miles Davis [Disc 2]', 68)\n",
      "(50, 'The Final Concerts (Disc 2)', 58)\n",
      "(51, \"Up An' Atom\", 69)\n",
      "(52, 'Vinícius De Moraes - Sem Limite', 70)\n",
      "(53, 'Vozes do MPB', 21)\n",
      "(54, 'Chronicle, Vol. 1', 76)\n",
      "(55, 'Chronicle, Vol. 2', 76)\n",
      "(56, 'Cássia Eller - Coleção Sem Limite [Disc 2]', 77)\n",
      "(57, 'Cássia Eller - Sem Limite [Disc 1]', 77)\n",
      "(58, 'Come Taste The Band', 58)\n",
      "(59, 'Deep Purple In Rock', 58)\n",
      "(60, 'Fireball', 58)\n",
      "(61, \"Knocking at Your Back Door: The Best Of Deep Purple in the 80's\", 58)\n",
      "(62, 'Machine Head', 58)\n",
      "(63, 'Purpendicular', 58)\n",
      "(64, 'Slaves And Masters', 58)\n",
      "(65, 'Stormbringer', 58)\n",
      "(66, 'The Battle Rages On', 58)\n",
      "(67, \"Vault: Def Leppard's Greatest Hits\", 78)\n",
      "(68, 'Outbreak', 79)\n",
      "(69, 'Djavan Ao Vivo - Vol. 02', 80)\n",
      "(70, 'Djavan Ao Vivo - Vol. 1', 80)\n",
      "(71, 'Elis Regina-Minha História', 41)\n",
      "(72, 'The Cream Of Clapton', 81)\n",
      "(73, 'Unplugged', 81)\n",
      "(74, 'Album Of The Year', 82)\n",
      "(75, 'Angel Dust', 82)\n",
      "(76, 'King For A Day Fool For A Lifetime', 82)\n",
      "(77, 'The Real Thing', 82)\n",
      "(78, 'Deixa Entrar', 83)\n",
      "(79, 'In Your Honor [Disc 1]', 84)\n",
      "(80, 'In Your Honor [Disc 2]', 84)\n",
      "(81, 'One By One', 84)\n",
      "(82, 'The Colour And The Shape', 84)\n",
      "(83, 'My Way: The Best Of Frank Sinatra [Disc 1]', 85)\n",
      "(84, 'Roda De Funk', 86)\n",
      "(85, 'As Canções de Eu Tu Eles', 27)\n",
      "(86, 'Quanta Gente Veio Ver (Live)', 27)\n",
      "(87, 'Quanta Gente Veio ver--Bônus De Carnaval', 27)\n",
      "(88, 'Faceless', 87)\n",
      "(89, 'American Idiot', 54)\n",
      "(90, 'Appetite for Destruction', 88)\n",
      "(91, 'Use Your Illusion I', 88)\n",
      "(92, 'Use Your Illusion II', 88)\n",
      "(93, 'Blue Moods', 89)\n",
      "(94, 'A Matter of Life and Death', 90)\n",
      "(95, 'A Real Dead One', 90)\n",
      "(96, 'A Real Live One', 90)\n",
      "(97, 'Brave New World', 90)\n",
      "(98, 'Dance Of Death', 90)\n",
      "(99, 'Fear Of The Dark', 90)\n",
      "(100, 'Iron Maiden', 90)\n",
      "(101, 'Killers', 90)\n",
      "(102, 'Live After Death', 90)\n",
      "(103, 'Live At Donington 1992 (Disc 1)', 90)\n",
      "(104, 'Live At Donington 1992 (Disc 2)', 90)\n",
      "(105, 'No Prayer For The Dying', 90)\n",
      "(106, 'Piece Of Mind', 90)\n",
      "(107, 'Powerslave', 90)\n",
      "(108, 'Rock In Rio [CD1]', 90)\n",
      "(109, 'Rock In Rio [CD2]', 90)\n",
      "(110, 'Seventh Son of a Seventh Son', 90)\n",
      "(111, 'Somewhere in Time', 90)\n",
      "(112, 'The Number of The Beast', 90)\n",
      "(113, 'The X Factor', 90)\n",
      "(114, 'Virtual XI', 90)\n",
      "(115, 'Sex Machine', 91)\n",
      "(116, 'Emergency On Planet Earth', 92)\n",
      "(117, 'Synkronized', 92)\n",
      "(118, 'The Return Of The Space Cowboy', 92)\n",
      "(119, 'Get Born', 93)\n",
      "(120, 'Are You Experienced?', 94)\n",
      "(121, 'Surfing with the Alien (Remastered)', 95)\n",
      "(122, 'Jorge Ben Jor 25 Anos', 46)\n",
      "(123, 'Jota Quest-1995', 96)\n",
      "(124, 'Cafezinho', 97)\n",
      "(125, 'Living After Midnight', 98)\n",
      "(126, 'Unplugged [Live]', 52)\n",
      "(127, 'BBC Sessions [Disc 2] [Live]', 22)\n",
      "(128, 'Coda', 22)\n",
      "(129, 'Houses Of The Holy', 22)\n",
      "(130, 'In Through The Out Door', 22)\n",
      "(131, 'IV', 22)\n",
      "(132, 'Led Zeppelin I', 22)\n",
      "(133, 'Led Zeppelin II', 22)\n",
      "(134, 'Led Zeppelin III', 22)\n",
      "(135, 'Physical Graffiti [Disc 2]', 22)\n",
      "(136, 'Presence', 22)\n",
      "(137, 'The Song Remains The Same (Disc 1)', 22)\n",
      "(138, 'The Song Remains The Same (Disc 2)', 22)\n",
      "(139, 'A TempestadeTempestade Ou O Livro Dos Dias', 99)\n",
      "(140, 'Mais Do Mesmo', 99)\n",
      "(141, 'Greatest Hits', 100)\n",
      "(142, 'Lulu Santos - RCA 100 Anos De Música - Álbum 01', 101)\n",
      "(143, 'Lulu Santos - RCA 100 Anos De Música - Álbum 02', 101)\n",
      "(144, 'Misplaced Childhood', 102)\n",
      "(145, 'Barulhinho Bom', 103)\n",
      "(146, 'Seek And Shall Find: More Of The Best (1963-1981)', 104)\n",
      "(147, 'The Best Of Men At Work', 105)\n",
      "(148, 'Black Album', 50)\n",
      "(149, 'Garage Inc. (Disc 2)', 50)\n",
      "(150, \"Kill 'Em All\", 50)\n",
      "(151, 'Load', 50)\n",
      "(152, 'Master Of Puppets', 50)\n",
      "(153, 'ReLoad', 50)\n",
      "(154, 'Ride The Lightning', 50)\n",
      "(155, 'St. Anger', 50)\n",
      "(156, '...And Justice For All', 50)\n",
      "(157, 'Miles Ahead', 68)\n",
      "(158, 'Milton Nascimento Ao Vivo', 42)\n",
      "(159, 'Minas', 42)\n",
      "(160, 'Ace Of Spades', 106)\n",
      "(161, 'Demorou...', 108)\n",
      "(162, 'Motley Crue Greatest Hits', 109)\n",
      "(163, 'From The Muddy Banks Of The Wishkah [Live]', 110)\n",
      "(164, 'Nevermind', 110)\n",
      "(165, 'Compositores', 111)\n",
      "(166, 'Olodum', 112)\n",
      "(167, 'Acústico MTV', 113)\n",
      "(168, 'Arquivo II', 113)\n",
      "(169, 'Arquivo Os Paralamas Do Sucesso', 113)\n",
      "(170, 'Bark at the Moon (Remastered)', 114)\n",
      "(171, 'Blizzard of Ozz', 114)\n",
      "(172, 'Diary of a Madman (Remastered)', 114)\n",
      "(173, 'No More Tears (Remastered)', 114)\n",
      "(174, 'Tribute', 114)\n",
      "(175, 'Walking Into Clarksdale', 115)\n",
      "(176, 'Original Soundtracks 1', 116)\n",
      "(177, 'The Beast Live', 117)\n",
      "(178, 'Live On Two Legs [Live]', 118)\n",
      "(179, 'Pearl Jam', 118)\n",
      "(180, 'Riot Act', 118)\n",
      "(181, 'Ten', 118)\n",
      "(182, 'Vs.', 118)\n",
      "(183, 'Dark Side Of The Moon', 120)\n",
      "(184, 'Os Cães Ladram Mas A Caravana Não Pára', 121)\n",
      "(185, 'Greatest Hits I', 51)\n",
      "(186, 'News Of The World', 51)\n",
      "(187, 'Out Of Time', 122)\n",
      "(188, 'Green', 124)\n",
      "(189, 'New Adventures In Hi-Fi', 124)\n",
      "(190, 'The Best Of R.E.M.: The IRS Years', 124)\n",
      "(191, 'Cesta Básica', 125)\n",
      "(192, 'Raul Seixas', 126)\n",
      "(193, 'Blood Sugar Sex Magik', 127)\n",
      "(194, 'By The Way', 127)\n",
      "(195, 'Californication', 127)\n",
      "(196, 'Retrospective I (1974-1980)', 128)\n",
      "(197, 'Santana - As Years Go By', 59)\n",
      "(198, 'Santana Live', 59)\n",
      "(199, 'Maquinarama', 130)\n",
      "(200, 'O Samba Poconé', 130)\n",
      "(201, 'Judas 0: B-Sides and Rarities', 131)\n",
      "(202, 'Rotten Apples: Greatest Hits', 131)\n",
      "(203, 'A-Sides', 132)\n",
      "(204, 'Morning Dance', 53)\n",
      "(205, 'In Step', 133)\n",
      "(206, 'Core', 134)\n",
      "(207, 'Mezmerize', 135)\n",
      "(208, '[1997] Black Light Syndrome', 136)\n",
      "(209, 'Live [Disc 1]', 137)\n",
      "(210, 'Live [Disc 2]', 137)\n",
      "(211, 'The Singles', 138)\n",
      "(212, 'Beyond Good And Evil', 139)\n",
      "(213, 'Pure Cult: The Best Of The Cult (For Rockers, Ravers, Lovers & Sinners) [UK]', 139)\n",
      "(214, 'The Doors', 140)\n",
      "(215, 'The Police Greatest Hits', 141)\n",
      "(216, 'Hot Rocks, 1964-1971 (Disc 1)', 142)\n",
      "(217, 'No Security', 142)\n",
      "(218, 'Voodoo Lounge', 142)\n",
      "(219, 'Tangents', 143)\n",
      "(220, 'Transmission', 143)\n",
      "(221, 'My Generation - The Very Best Of The Who', 144)\n",
      "(222, 'Serie Sem Limite (Disc 1)', 145)\n",
      "(223, 'Serie Sem Limite (Disc 2)', 145)\n",
      "(224, 'Acústico', 146)\n",
      "(225, 'Volume Dois', 146)\n",
      "(226, 'Battlestar Galactica: The Story So Far', 147)\n",
      "(227, 'Battlestar Galactica, Season 3', 147)\n",
      "(228, 'Heroes, Season 1', 148)\n",
      "(229, 'Lost, Season 3', 149)\n",
      "(230, 'Lost, Season 1', 149)\n",
      "(231, 'Lost, Season 2', 149)\n",
      "(232, 'Achtung Baby', 150)\n",
      "(233, \"All That You Can't Leave Behind\", 150)\n",
      "(234, 'B-Sides 1980-1990', 150)\n",
      "(235, 'How To Dismantle An Atomic Bomb', 150)\n",
      "(236, 'Pop', 150)\n",
      "(237, 'Rattle And Hum', 150)\n",
      "(238, 'The Best Of 1980-1990', 150)\n",
      "(239, 'War', 150)\n",
      "(240, 'Zooropa', 150)\n",
      "(241, 'UB40 The Best Of - Volume Two [UK]', 151)\n",
      "(242, 'Diver Down', 152)\n",
      "(243, 'The Best Of Van Halen, Vol. I', 152)\n",
      "(244, 'Van Halen', 152)\n",
      "(245, 'Van Halen III', 152)\n",
      "(246, 'Contraband', 153)\n",
      "(247, 'Vinicius De Moraes', 72)\n",
      "(248, 'Ao Vivo [IMPORT]', 155)\n",
      "(249, 'The Office, Season 1', 156)\n",
      "(250, 'The Office, Season 2', 156)\n",
      "(251, 'The Office, Season 3', 156)\n",
      "(252, 'Un-Led-Ed', 157)\n",
      "(253, 'Battlestar Galactica (Classic), Season 1', 158)\n",
      "(254, 'Aquaman', 159)\n",
      "(255, 'Instant Karma: The Amnesty International Campaign to Save Darfur', 150)\n",
      "(256, 'Speak of the Devil', 114)\n",
      "(257, '20th Century Masters - The Millennium Collection: The Best of Scorpions', 179)\n",
      "(258, 'House of Pain', 180)\n",
      "(259, 'Radio Brasil (O Som da Jovem Vanguarda) - Seleccao de Henrique Amaro', 36)\n",
      "(260, 'Cake: B-Sides and Rarities', 196)\n",
      "(261, 'LOST, Season 4', 149)\n",
      "(262, 'Quiet Songs', 197)\n",
      "(263, 'Muso Ko', 198)\n",
      "(264, 'Realize', 199)\n",
      "(265, 'Every Kind of Light', 200)\n",
      "(266, 'Duos II', 201)\n",
      "(267, 'Worlds', 202)\n",
      "(268, 'The Best of Beethoven', 203)\n",
      "(269, 'Temple of the Dog', 204)\n",
      "(270, 'Carry On', 205)\n",
      "(271, 'Revelations', 8)\n",
      "(272, 'Adorate Deum: Gregorian Chant from the Proper of the Mass', 206)\n",
      "(273, 'Allegri: Miserere', 207)\n",
      "(274, 'Pachelbel: Canon & Gigue', 208)\n",
      "(275, 'Vivaldi: The Four Seasons', 209)\n",
      "(276, 'Bach: Violin Concertos', 210)\n",
      "(277, 'Bach: Goldberg Variations', 211)\n",
      "(278, 'Bach: The Cello Suites', 212)\n",
      "(279, 'Handel: The Messiah (Highlights)', 213)\n",
      "(280, 'The World of Classical Favourites', 214)\n",
      "(281, 'Sir Neville Marriner: A Celebration', 215)\n",
      "(282, 'Mozart: Wind Concertos', 216)\n",
      "(283, 'Haydn: Symphonies 99 - 104', 217)\n",
      "(284, 'Beethoven: Symhonies Nos. 5 & 6', 218)\n",
      "(285, 'A Soprano Inspired', 219)\n",
      "(286, 'Great Opera Choruses', 220)\n",
      "(287, 'Wagner: Favourite Overtures', 221)\n",
      "(288, 'Fauré: Requiem, Ravel: Pavane & Others', 222)\n",
      "(289, 'Tchaikovsky: The Nutcracker', 223)\n",
      "(290, 'The Last Night of the Proms', 224)\n",
      "(291, 'Puccini: Madama Butterfly - Highlights', 225)\n",
      "(292, 'Holst: The Planets, Op. 32 & Vaughan Williams: Fantasies', 226)\n",
      "(293, \"Pavarotti's Opera Made Easy\", 227)\n",
      "(294, \"Great Performances - Barber's Adagio and Other Romantic Favorites for Strings\", 228)\n",
      "(295, 'Carmina Burana', 229)\n",
      "(296, 'A Copland Celebration, Vol. I', 230)\n",
      "(297, 'Bach: Toccata & Fugue in D Minor', 231)\n",
      "(298, 'Prokofiev: Symphony No.1', 232)\n",
      "(299, 'Scheherazade', 233)\n",
      "(300, 'Bach: The Brandenburg Concertos', 234)\n",
      "(301, 'Chopin: Piano Concertos Nos. 1 & 2', 235)\n",
      "(302, 'Mascagni: Cavalleria Rusticana', 236)\n",
      "(303, 'Sibelius: Finlandia', 237)\n",
      "(304, 'Beethoven Piano Sonatas: Moonlight & Pastorale', 238)\n",
      "(305, 'Great Recordings of the Century - Mahler: Das Lied von der Erde', 240)\n",
      "(306, 'Elgar: Cello Concerto & Vaughan Williams: Fantasias', 241)\n",
      "(307, 'Adams, John: The Chairman Dances', 242)\n",
      "(308, \"Tchaikovsky: 1812 Festival Overture, Op.49, Capriccio Italien & Beethoven: Wellington's Victory\", 243)\n",
      "(309, 'Palestrina: Missa Papae Marcelli & Allegri: Miserere', 244)\n",
      "(310, 'Prokofiev: Romeo & Juliet', 245)\n",
      "(311, 'Strauss: Waltzes', 226)\n",
      "(312, 'Berlioz: Symphonie Fantastique', 245)\n",
      "(313, 'Bizet: Carmen Highlights', 246)\n",
      "(314, 'English Renaissance', 247)\n",
      "(315, 'Handel: Music for the Royal Fireworks (Original Version 1749)', 208)\n",
      "(316, 'Grieg: Peer Gynt Suites & Sibelius: Pelléas et Mélisande', 248)\n",
      "(317, 'Mozart Gala: Famous Arias', 249)\n",
      "(318, 'SCRIABIN: Vers la flamme', 250)\n",
      "(319, 'Armada: Music from the Courts of England and Spain', 251)\n",
      "(320, 'Mozart: Symphonies Nos. 40 & 41', 248)\n",
      "(321, 'Back to Black', 252)\n",
      "(322, 'Frank', 252)\n",
      "(323, 'Carried to Dust (Bonus Track Version)', 253)\n",
      "(324, \"Beethoven: Symphony No. 6 'Pastoral' Etc.\", 254)\n",
      "(325, 'Bartok: Violin & Viola Concertos', 255)\n",
      "(326, \"Mendelssohn: A Midsummer Night's Dream\", 256)\n",
      "(327, 'Bach: Orchestral Suites Nos. 1 - 4', 257)\n",
      "(328, 'Charpentier: Divertissements, Airs & Concerts', 258)\n",
      "(329, 'South American Getaway', 259)\n",
      "(330, 'Górecki: Symphony No. 3', 260)\n",
      "(331, 'Purcell: The Fairy Queen', 261)\n",
      "(332, 'The Ultimate Relexation Album', 262)\n",
      "(333, 'Purcell: Music for the Queen Mary', 263)\n",
      "(334, 'Weill: The Seven Deadly Sins', 264)\n",
      "(335, 'J.S. Bach: Chaconne, Suite in E Minor, Partita in E Major & Prelude, Fugue and Allegro', 265)\n",
      "(336, 'Prokofiev: Symphony No.5 & Stravinksy: Le Sacre Du Printemps', 248)\n",
      "(337, 'Szymanowski: Piano Works, Vol. 1', 266)\n",
      "(338, 'Nielsen: The Six Symphonies', 267)\n",
      "(339, \"Great Recordings of the Century: Paganini's 24 Caprices\", 268)\n",
      "(340, \"Liszt - 12 Études D'Execution Transcendante\", 269)\n",
      "(341, 'Great Recordings of the Century - Shubert: Schwanengesang, 4 Lieder', 270)\n",
      "(342, 'Locatelli: Concertos for Violin, Strings and Continuo, Vol. 3', 271)\n",
      "(343, 'Respighi:Pines of Rome', 226)\n",
      "(344, \"Schubert: The Late String Quartets & String Quintet (3 CD's)\", 272)\n",
      "(345, \"Monteverdi: L'Orfeo\", 273)\n",
      "(346, 'Mozart: Chamber Music', 274)\n",
      "(347, 'Koyaanisqatsi (Soundtrack from the Motion Picture)', 275)\n"
     ]
    }
   ],
   "source": [
    "for row in c:\n",
    "    print(row)"
   ]
  },
  {
   "cell_type": "markdown",
   "metadata": {},
   "source": [
    "And here we retrieve all the data at once:"
   ]
  },
  {
   "cell_type": "code",
   "execution_count": 3,
   "metadata": {
    "collapsed": false
   },
   "outputs": [
    {
     "name": "stdout",
     "output_type": "stream",
     "text": [
      "[(1, 'For Those About To Rock We Salute You', 1), (2, 'Balls to the Wall', 2), (3, 'Restless and Wild', 2), (4, 'Let There Be Rock', 1), (5, 'Big Ones', 3), (6, 'Jagged Little Pill', 4), (7, 'Facelift', 5), (8, 'Warner 25 Anos', 6), (9, 'Plays Metallica By Four Cellos', 7), (10, 'Audioslave', 8), (11, 'Out Of Exile', 8), (12, 'BackBeat Soundtrack', 9), (13, 'The Best Of Billy Cobham', 10), (14, 'Alcohol Fueled Brewtality Live! [Disc 1]', 11), (15, 'Alcohol Fueled Brewtality Live! [Disc 2]', 11), (16, 'Black Sabbath', 12), (17, 'Black Sabbath Vol. 4 (Remaster)', 12), (18, 'Body Count', 13), (19, 'Chemical Wedding', 14), (20, 'The Best Of Buddy Guy - The Millenium Collection', 15), (21, 'Prenda Minha', 16), (22, 'Sozinho Remix Ao Vivo', 16), (23, 'Minha Historia', 17), (24, 'Afrociberdelia', 18), (25, 'Da Lama Ao Caos', 18), (26, 'Acústico MTV [Live]', 19), (27, 'Cidade Negra - Hits', 19), (28, 'Na Pista', 20), (29, 'Axé Bahia 2001', 21), (30, 'BBC Sessions [Disc 1] [Live]', 22), (31, 'Bongo Fury', 23), (32, 'Carnaval 2001', 21), (33, 'Chill: Brazil (Disc 1)', 24), (34, 'Chill: Brazil (Disc 2)', 6), (35, 'Garage Inc. (Disc 1)', 50), (36, 'Greatest Hits II', 51), (37, 'Greatest Kiss', 52), (38, 'Heart of the Night', 53), (39, 'International Superhits', 54), (40, 'Into The Light', 55), (41, 'Meus Momentos', 56), (42, 'Minha História', 57), (43, 'MK III The Final Concerts [Disc 1]', 58), (44, 'Physical Graffiti [Disc 1]', 22), (45, 'Sambas De Enredo 2001', 21), (46, 'Supernatural', 59), (47, 'The Best of Ed Motta', 37), (48, 'The Essential Miles Davis [Disc 1]', 68), (49, 'The Essential Miles Davis [Disc 2]', 68), (50, 'The Final Concerts (Disc 2)', 58), (51, \"Up An' Atom\", 69), (52, 'Vinícius De Moraes - Sem Limite', 70), (53, 'Vozes do MPB', 21), (54, 'Chronicle, Vol. 1', 76), (55, 'Chronicle, Vol. 2', 76), (56, 'Cássia Eller - Coleção Sem Limite [Disc 2]', 77), (57, 'Cássia Eller - Sem Limite [Disc 1]', 77), (58, 'Come Taste The Band', 58), (59, 'Deep Purple In Rock', 58), (60, 'Fireball', 58), (61, \"Knocking at Your Back Door: The Best Of Deep Purple in the 80's\", 58), (62, 'Machine Head', 58), (63, 'Purpendicular', 58), (64, 'Slaves And Masters', 58), (65, 'Stormbringer', 58), (66, 'The Battle Rages On', 58), (67, \"Vault: Def Leppard's Greatest Hits\", 78), (68, 'Outbreak', 79), (69, 'Djavan Ao Vivo - Vol. 02', 80), (70, 'Djavan Ao Vivo - Vol. 1', 80), (71, 'Elis Regina-Minha História', 41), (72, 'The Cream Of Clapton', 81), (73, 'Unplugged', 81), (74, 'Album Of The Year', 82), (75, 'Angel Dust', 82), (76, 'King For A Day Fool For A Lifetime', 82), (77, 'The Real Thing', 82), (78, 'Deixa Entrar', 83), (79, 'In Your Honor [Disc 1]', 84), (80, 'In Your Honor [Disc 2]', 84), (81, 'One By One', 84), (82, 'The Colour And The Shape', 84), (83, 'My Way: The Best Of Frank Sinatra [Disc 1]', 85), (84, 'Roda De Funk', 86), (85, 'As Canções de Eu Tu Eles', 27), (86, 'Quanta Gente Veio Ver (Live)', 27), (87, 'Quanta Gente Veio ver--Bônus De Carnaval', 27), (88, 'Faceless', 87), (89, 'American Idiot', 54), (90, 'Appetite for Destruction', 88), (91, 'Use Your Illusion I', 88), (92, 'Use Your Illusion II', 88), (93, 'Blue Moods', 89), (94, 'A Matter of Life and Death', 90), (95, 'A Real Dead One', 90), (96, 'A Real Live One', 90), (97, 'Brave New World', 90), (98, 'Dance Of Death', 90), (99, 'Fear Of The Dark', 90), (100, 'Iron Maiden', 90), (101, 'Killers', 90), (102, 'Live After Death', 90), (103, 'Live At Donington 1992 (Disc 1)', 90), (104, 'Live At Donington 1992 (Disc 2)', 90), (105, 'No Prayer For The Dying', 90), (106, 'Piece Of Mind', 90), (107, 'Powerslave', 90), (108, 'Rock In Rio [CD1]', 90), (109, 'Rock In Rio [CD2]', 90), (110, 'Seventh Son of a Seventh Son', 90), (111, 'Somewhere in Time', 90), (112, 'The Number of The Beast', 90), (113, 'The X Factor', 90), (114, 'Virtual XI', 90), (115, 'Sex Machine', 91), (116, 'Emergency On Planet Earth', 92), (117, 'Synkronized', 92), (118, 'The Return Of The Space Cowboy', 92), (119, 'Get Born', 93), (120, 'Are You Experienced?', 94), (121, 'Surfing with the Alien (Remastered)', 95), (122, 'Jorge Ben Jor 25 Anos', 46), (123, 'Jota Quest-1995', 96), (124, 'Cafezinho', 97), (125, 'Living After Midnight', 98), (126, 'Unplugged [Live]', 52), (127, 'BBC Sessions [Disc 2] [Live]', 22), (128, 'Coda', 22), (129, 'Houses Of The Holy', 22), (130, 'In Through The Out Door', 22), (131, 'IV', 22), (132, 'Led Zeppelin I', 22), (133, 'Led Zeppelin II', 22), (134, 'Led Zeppelin III', 22), (135, 'Physical Graffiti [Disc 2]', 22), (136, 'Presence', 22), (137, 'The Song Remains The Same (Disc 1)', 22), (138, 'The Song Remains The Same (Disc 2)', 22), (139, 'A TempestadeTempestade Ou O Livro Dos Dias', 99), (140, 'Mais Do Mesmo', 99), (141, 'Greatest Hits', 100), (142, 'Lulu Santos - RCA 100 Anos De Música - Álbum 01', 101), (143, 'Lulu Santos - RCA 100 Anos De Música - Álbum 02', 101), (144, 'Misplaced Childhood', 102), (145, 'Barulhinho Bom', 103), (146, 'Seek And Shall Find: More Of The Best (1963-1981)', 104), (147, 'The Best Of Men At Work', 105), (148, 'Black Album', 50), (149, 'Garage Inc. (Disc 2)', 50), (150, \"Kill 'Em All\", 50), (151, 'Load', 50), (152, 'Master Of Puppets', 50), (153, 'ReLoad', 50), (154, 'Ride The Lightning', 50), (155, 'St. Anger', 50), (156, '...And Justice For All', 50), (157, 'Miles Ahead', 68), (158, 'Milton Nascimento Ao Vivo', 42), (159, 'Minas', 42), (160, 'Ace Of Spades', 106), (161, 'Demorou...', 108), (162, 'Motley Crue Greatest Hits', 109), (163, 'From The Muddy Banks Of The Wishkah [Live]', 110), (164, 'Nevermind', 110), (165, 'Compositores', 111), (166, 'Olodum', 112), (167, 'Acústico MTV', 113), (168, 'Arquivo II', 113), (169, 'Arquivo Os Paralamas Do Sucesso', 113), (170, 'Bark at the Moon (Remastered)', 114), (171, 'Blizzard of Ozz', 114), (172, 'Diary of a Madman (Remastered)', 114), (173, 'No More Tears (Remastered)', 114), (174, 'Tribute', 114), (175, 'Walking Into Clarksdale', 115), (176, 'Original Soundtracks 1', 116), (177, 'The Beast Live', 117), (178, 'Live On Two Legs [Live]', 118), (179, 'Pearl Jam', 118), (180, 'Riot Act', 118), (181, 'Ten', 118), (182, 'Vs.', 118), (183, 'Dark Side Of The Moon', 120), (184, 'Os Cães Ladram Mas A Caravana Não Pára', 121), (185, 'Greatest Hits I', 51), (186, 'News Of The World', 51), (187, 'Out Of Time', 122), (188, 'Green', 124), (189, 'New Adventures In Hi-Fi', 124), (190, 'The Best Of R.E.M.: The IRS Years', 124), (191, 'Cesta Básica', 125), (192, 'Raul Seixas', 126), (193, 'Blood Sugar Sex Magik', 127), (194, 'By The Way', 127), (195, 'Californication', 127), (196, 'Retrospective I (1974-1980)', 128), (197, 'Santana - As Years Go By', 59), (198, 'Santana Live', 59), (199, 'Maquinarama', 130), (200, 'O Samba Poconé', 130), (201, 'Judas 0: B-Sides and Rarities', 131), (202, 'Rotten Apples: Greatest Hits', 131), (203, 'A-Sides', 132), (204, 'Morning Dance', 53), (205, 'In Step', 133), (206, 'Core', 134), (207, 'Mezmerize', 135), (208, '[1997] Black Light Syndrome', 136), (209, 'Live [Disc 1]', 137), (210, 'Live [Disc 2]', 137), (211, 'The Singles', 138), (212, 'Beyond Good And Evil', 139), (213, 'Pure Cult: The Best Of The Cult (For Rockers, Ravers, Lovers & Sinners) [UK]', 139), (214, 'The Doors', 140), (215, 'The Police Greatest Hits', 141), (216, 'Hot Rocks, 1964-1971 (Disc 1)', 142), (217, 'No Security', 142), (218, 'Voodoo Lounge', 142), (219, 'Tangents', 143), (220, 'Transmission', 143), (221, 'My Generation - The Very Best Of The Who', 144), (222, 'Serie Sem Limite (Disc 1)', 145), (223, 'Serie Sem Limite (Disc 2)', 145), (224, 'Acústico', 146), (225, 'Volume Dois', 146), (226, 'Battlestar Galactica: The Story So Far', 147), (227, 'Battlestar Galactica, Season 3', 147), (228, 'Heroes, Season 1', 148), (229, 'Lost, Season 3', 149), (230, 'Lost, Season 1', 149), (231, 'Lost, Season 2', 149), (232, 'Achtung Baby', 150), (233, \"All That You Can't Leave Behind\", 150), (234, 'B-Sides 1980-1990', 150), (235, 'How To Dismantle An Atomic Bomb', 150), (236, 'Pop', 150), (237, 'Rattle And Hum', 150), (238, 'The Best Of 1980-1990', 150), (239, 'War', 150), (240, 'Zooropa', 150), (241, 'UB40 The Best Of - Volume Two [UK]', 151), (242, 'Diver Down', 152), (243, 'The Best Of Van Halen, Vol. I', 152), (244, 'Van Halen', 152), (245, 'Van Halen III', 152), (246, 'Contraband', 153), (247, 'Vinicius De Moraes', 72), (248, 'Ao Vivo [IMPORT]', 155), (249, 'The Office, Season 1', 156), (250, 'The Office, Season 2', 156), (251, 'The Office, Season 3', 156), (252, 'Un-Led-Ed', 157), (253, 'Battlestar Galactica (Classic), Season 1', 158), (254, 'Aquaman', 159), (255, 'Instant Karma: The Amnesty International Campaign to Save Darfur', 150), (256, 'Speak of the Devil', 114), (257, '20th Century Masters - The Millennium Collection: The Best of Scorpions', 179), (258, 'House of Pain', 180), (259, 'Radio Brasil (O Som da Jovem Vanguarda) - Seleccao de Henrique Amaro', 36), (260, 'Cake: B-Sides and Rarities', 196), (261, 'LOST, Season 4', 149), (262, 'Quiet Songs', 197), (263, 'Muso Ko', 198), (264, 'Realize', 199), (265, 'Every Kind of Light', 200), (266, 'Duos II', 201), (267, 'Worlds', 202), (268, 'The Best of Beethoven', 203), (269, 'Temple of the Dog', 204), (270, 'Carry On', 205), (271, 'Revelations', 8), (272, 'Adorate Deum: Gregorian Chant from the Proper of the Mass', 206), (273, 'Allegri: Miserere', 207), (274, 'Pachelbel: Canon & Gigue', 208), (275, 'Vivaldi: The Four Seasons', 209), (276, 'Bach: Violin Concertos', 210), (277, 'Bach: Goldberg Variations', 211), (278, 'Bach: The Cello Suites', 212), (279, 'Handel: The Messiah (Highlights)', 213), (280, 'The World of Classical Favourites', 214), (281, 'Sir Neville Marriner: A Celebration', 215), (282, 'Mozart: Wind Concertos', 216), (283, 'Haydn: Symphonies 99 - 104', 217), (284, 'Beethoven: Symhonies Nos. 5 & 6', 218), (285, 'A Soprano Inspired', 219), (286, 'Great Opera Choruses', 220), (287, 'Wagner: Favourite Overtures', 221), (288, 'Fauré: Requiem, Ravel: Pavane & Others', 222), (289, 'Tchaikovsky: The Nutcracker', 223), (290, 'The Last Night of the Proms', 224), (291, 'Puccini: Madama Butterfly - Highlights', 225), (292, 'Holst: The Planets, Op. 32 & Vaughan Williams: Fantasies', 226), (293, \"Pavarotti's Opera Made Easy\", 227), (294, \"Great Performances - Barber's Adagio and Other Romantic Favorites for Strings\", 228), (295, 'Carmina Burana', 229), (296, 'A Copland Celebration, Vol. I', 230), (297, 'Bach: Toccata & Fugue in D Minor', 231), (298, 'Prokofiev: Symphony No.1', 232), (299, 'Scheherazade', 233), (300, 'Bach: The Brandenburg Concertos', 234), (301, 'Chopin: Piano Concertos Nos. 1 & 2', 235), (302, 'Mascagni: Cavalleria Rusticana', 236), (303, 'Sibelius: Finlandia', 237), (304, 'Beethoven Piano Sonatas: Moonlight & Pastorale', 238), (305, 'Great Recordings of the Century - Mahler: Das Lied von der Erde', 240), (306, 'Elgar: Cello Concerto & Vaughan Williams: Fantasias', 241), (307, 'Adams, John: The Chairman Dances', 242), (308, \"Tchaikovsky: 1812 Festival Overture, Op.49, Capriccio Italien & Beethoven: Wellington's Victory\", 243), (309, 'Palestrina: Missa Papae Marcelli & Allegri: Miserere', 244), (310, 'Prokofiev: Romeo & Juliet', 245), (311, 'Strauss: Waltzes', 226), (312, 'Berlioz: Symphonie Fantastique', 245), (313, 'Bizet: Carmen Highlights', 246), (314, 'English Renaissance', 247), (315, 'Handel: Music for the Royal Fireworks (Original Version 1749)', 208), (316, 'Grieg: Peer Gynt Suites & Sibelius: Pelléas et Mélisande', 248), (317, 'Mozart Gala: Famous Arias', 249), (318, 'SCRIABIN: Vers la flamme', 250), (319, 'Armada: Music from the Courts of England and Spain', 251), (320, 'Mozart: Symphonies Nos. 40 & 41', 248), (321, 'Back to Black', 252), (322, 'Frank', 252), (323, 'Carried to Dust (Bonus Track Version)', 253), (324, \"Beethoven: Symphony No. 6 'Pastoral' Etc.\", 254), (325, 'Bartok: Violin & Viola Concertos', 255), (326, \"Mendelssohn: A Midsummer Night's Dream\", 256), (327, 'Bach: Orchestral Suites Nos. 1 - 4', 257), (328, 'Charpentier: Divertissements, Airs & Concerts', 258), (329, 'South American Getaway', 259), (330, 'Górecki: Symphony No. 3', 260), (331, 'Purcell: The Fairy Queen', 261), (332, 'The Ultimate Relexation Album', 262), (333, 'Purcell: Music for the Queen Mary', 263), (334, 'Weill: The Seven Deadly Sins', 264), (335, 'J.S. Bach: Chaconne, Suite in E Minor, Partita in E Major & Prelude, Fugue and Allegro', 265), (336, 'Prokofiev: Symphony No.5 & Stravinksy: Le Sacre Du Printemps', 248), (337, 'Szymanowski: Piano Works, Vol. 1', 266), (338, 'Nielsen: The Six Symphonies', 267), (339, \"Great Recordings of the Century: Paganini's 24 Caprices\", 268), (340, \"Liszt - 12 Études D'Execution Transcendante\", 269), (341, 'Great Recordings of the Century - Shubert: Schwanengesang, 4 Lieder', 270), (342, 'Locatelli: Concertos for Violin, Strings and Continuo, Vol. 3', 271), (343, 'Respighi:Pines of Rome', 226), (344, \"Schubert: The Late String Quartets & String Quintet (3 CD's)\", 272), (345, \"Monteverdi: L'Orfeo\", 273), (346, 'Mozart: Chamber Music', 274), (347, 'Koyaanisqatsi (Soundtrack from the Motion Picture)', 275)]\n"
     ]
    }
   ],
   "source": [
    "c.execute(\"SELECT * FROM albums\")\n",
    "print(c.fetchall())"
   ]
  },
  {
   "cell_type": "markdown",
   "metadata": {},
   "source": [
    "An alternative approach that fits well into our previous workflows is to use pandas to store the table directly, using the [`read_sql()`](http://pandas.pydata.org/pandas-docs/stable/generated/pandas.read_sql.html) function:"
   ]
  },
  {
   "cell_type": "code",
   "execution_count": 4,
   "metadata": {
    "collapsed": false
   },
   "outputs": [
    {
     "data": {
      "text/html": [
       "<div>\n",
       "<table border=\"1\" class=\"dataframe\">\n",
       "  <thead>\n",
       "    <tr style=\"text-align: right;\">\n",
       "      <th></th>\n",
       "      <th>AlbumId</th>\n",
       "      <th>Title</th>\n",
       "      <th>ArtistId</th>\n",
       "    </tr>\n",
       "  </thead>\n",
       "  <tbody>\n",
       "    <tr>\n",
       "      <th>0</th>\n",
       "      <td>1</td>\n",
       "      <td>For Those About To Rock We Salute You</td>\n",
       "      <td>1</td>\n",
       "    </tr>\n",
       "    <tr>\n",
       "      <th>1</th>\n",
       "      <td>2</td>\n",
       "      <td>Balls to the Wall</td>\n",
       "      <td>2</td>\n",
       "    </tr>\n",
       "    <tr>\n",
       "      <th>2</th>\n",
       "      <td>3</td>\n",
       "      <td>Restless and Wild</td>\n",
       "      <td>2</td>\n",
       "    </tr>\n",
       "    <tr>\n",
       "      <th>3</th>\n",
       "      <td>4</td>\n",
       "      <td>Let There Be Rock</td>\n",
       "      <td>1</td>\n",
       "    </tr>\n",
       "    <tr>\n",
       "      <th>4</th>\n",
       "      <td>5</td>\n",
       "      <td>Big Ones</td>\n",
       "      <td>3</td>\n",
       "    </tr>\n",
       "  </tbody>\n",
       "</table>\n",
       "</div>"
      ],
      "text/plain": [
       "   AlbumId                                  Title  ArtistId\n",
       "0        1  For Those About To Rock We Salute You         1\n",
       "1        2                      Balls to the Wall         2\n",
       "2        3                      Restless and Wild         2\n",
       "3        4                      Let There Be Rock         1\n",
       "4        5                               Big Ones         3"
      ]
     },
     "execution_count": 4,
     "metadata": {},
     "output_type": "execute_result"
    }
   ],
   "source": [
    "# this is similar to the read_csv()function\n",
    "pd.read_sql(\"\"\"SELECT * FROM albums\"\"\", conn).head()"
   ]
  },
  {
   "cell_type": "markdown",
   "metadata": {},
   "source": [
    "When we **specify individual columns** instead of using the `*`, we get only those columns:"
   ]
  },
  {
   "cell_type": "code",
   "execution_count": 5,
   "metadata": {
    "collapsed": false
   },
   "outputs": [
    {
     "data": {
      "text/html": [
       "<div>\n",
       "<table border=\"1\" class=\"dataframe\">\n",
       "  <thead>\n",
       "    <tr style=\"text-align: right;\">\n",
       "      <th></th>\n",
       "      <th>Title</th>\n",
       "    </tr>\n",
       "  </thead>\n",
       "  <tbody>\n",
       "    <tr>\n",
       "      <th>0</th>\n",
       "      <td>For Those About To Rock We Salute You</td>\n",
       "    </tr>\n",
       "    <tr>\n",
       "      <th>1</th>\n",
       "      <td>Balls to the Wall</td>\n",
       "    </tr>\n",
       "    <tr>\n",
       "      <th>2</th>\n",
       "      <td>Restless and Wild</td>\n",
       "    </tr>\n",
       "    <tr>\n",
       "      <th>3</th>\n",
       "      <td>Let There Be Rock</td>\n",
       "    </tr>\n",
       "    <tr>\n",
       "      <th>4</th>\n",
       "      <td>Big Ones</td>\n",
       "    </tr>\n",
       "  </tbody>\n",
       "</table>\n",
       "</div>"
      ],
      "text/plain": [
       "                                   Title\n",
       "0  For Those About To Rock We Salute You\n",
       "1                      Balls to the Wall\n",
       "2                      Restless and Wild\n",
       "3                      Let There Be Rock\n",
       "4                               Big Ones"
      ]
     },
     "execution_count": 5,
     "metadata": {},
     "output_type": "execute_result"
    }
   ],
   "source": [
    "pd.read_sql(\"\"\"SELECT Title FROM albums\"\"\", conn).head()"
   ]
  },
  {
   "cell_type": "markdown",
   "metadata": {},
   "source": [
    "We can run more **restrictive queries** with the `WHERE` keyword:"
   ]
  },
  {
   "cell_type": "code",
   "execution_count": 6,
   "metadata": {
    "collapsed": false
   },
   "outputs": [
    {
     "data": {
      "text/html": [
       "<div>\n",
       "<table border=\"1\" class=\"dataframe\">\n",
       "  <thead>\n",
       "    <tr style=\"text-align: right;\">\n",
       "      <th></th>\n",
       "      <th>AlbumId</th>\n",
       "      <th>Title</th>\n",
       "      <th>ArtistId</th>\n",
       "    </tr>\n",
       "  </thead>\n",
       "  <tbody>\n",
       "    <tr>\n",
       "      <th>0</th>\n",
       "      <td>5</td>\n",
       "      <td>Big Ones</td>\n",
       "      <td>3</td>\n",
       "    </tr>\n",
       "  </tbody>\n",
       "</table>\n",
       "</div>"
      ],
      "text/plain": [
       "   AlbumId     Title  ArtistId\n",
       "0        5  Big Ones         3"
      ]
     },
     "execution_count": 6,
     "metadata": {},
     "output_type": "execute_result"
    }
   ],
   "source": [
    "# note that the triple quotes allow us to break lines\n",
    "pd.read_sql(\"\"\"SELECT * FROM albums \n",
    "                    WHERE Title = 'Big Ones'\"\"\", conn)"
   ]
  },
  {
   "cell_type": "markdown",
   "metadata": {},
   "source": [
    "## Security"
   ]
  },
  {
   "cell_type": "markdown",
   "metadata": {},
   "source": [
    "We can use python variables to use in the columns, however, you typically shouldn't trust the content of the variables, especially in a user facing system. Imagine, you read in which attribute to query for from a website field where a user can specify a name. The user could use this to attack your SQL server using [SQL Injection](https://en.wikipedia.org/wiki/SQL_injection). For example, for this statement:"
   ]
  },
  {
   "cell_type": "code",
   "execution_count": 7,
   "metadata": {
    "collapsed": false
   },
   "outputs": [
    {
     "data": {
      "text/plain": [
       "<sqlite3.Cursor at 0x10bcf5500>"
      ]
     },
     "execution_count": 7,
     "metadata": {},
     "output_type": "execute_result"
    }
   ],
   "source": [
    "title = \"Big Ones\"\n",
    "# executescript runs multiple sql statements. \n",
    "# This isn't very helpful for quering, but can be great for other operations.\n",
    "c.executescript(\"\"\"SELECT * FROM albums WHERE Title = '\"\"\" + title + \"'\")"
   ]
  },
  {
   "cell_type": "markdown",
   "metadata": {},
   "source": [
    "Let's look at the tables in the database:"
   ]
  },
  {
   "cell_type": "code",
   "execution_count": 8,
   "metadata": {
    "collapsed": false
   },
   "outputs": [
    {
     "data": {
      "text/html": [
       "<div>\n",
       "<table border=\"1\" class=\"dataframe\">\n",
       "  <thead>\n",
       "    <tr style=\"text-align: right;\">\n",
       "      <th></th>\n",
       "      <th>name</th>\n",
       "    </tr>\n",
       "  </thead>\n",
       "  <tbody>\n",
       "    <tr>\n",
       "      <th>0</th>\n",
       "      <td>albums</td>\n",
       "    </tr>\n",
       "    <tr>\n",
       "      <th>1</th>\n",
       "      <td>artists</td>\n",
       "    </tr>\n",
       "    <tr>\n",
       "      <th>2</th>\n",
       "      <td>customers</td>\n",
       "    </tr>\n",
       "    <tr>\n",
       "      <th>3</th>\n",
       "      <td>employees</td>\n",
       "    </tr>\n",
       "    <tr>\n",
       "      <th>4</th>\n",
       "      <td>genres</td>\n",
       "    </tr>\n",
       "    <tr>\n",
       "      <th>5</th>\n",
       "      <td>invoices</td>\n",
       "    </tr>\n",
       "    <tr>\n",
       "      <th>6</th>\n",
       "      <td>media_types</td>\n",
       "    </tr>\n",
       "    <tr>\n",
       "      <th>7</th>\n",
       "      <td>playlist_track</td>\n",
       "    </tr>\n",
       "    <tr>\n",
       "      <th>8</th>\n",
       "      <td>playlists</td>\n",
       "    </tr>\n",
       "    <tr>\n",
       "      <th>9</th>\n",
       "      <td>sqlite_sequence</td>\n",
       "    </tr>\n",
       "    <tr>\n",
       "      <th>10</th>\n",
       "      <td>sqlite_stat1</td>\n",
       "    </tr>\n",
       "    <tr>\n",
       "      <th>11</th>\n",
       "      <td>tracks</td>\n",
       "    </tr>\n",
       "  </tbody>\n",
       "</table>\n",
       "</div>"
      ],
      "text/plain": [
       "               name\n",
       "0            albums\n",
       "1           artists\n",
       "2         customers\n",
       "3         employees\n",
       "4            genres\n",
       "5          invoices\n",
       "6       media_types\n",
       "7    playlist_track\n",
       "8         playlists\n",
       "9   sqlite_sequence\n",
       "10     sqlite_stat1\n",
       "11           tracks"
      ]
     },
     "execution_count": 8,
     "metadata": {},
     "output_type": "execute_result"
    }
   ],
   "source": [
    "pd.read_sql(\"\"\"SELECT name FROM sqlite_master\n",
    "            WHERE type='table'\n",
    "            ORDER BY name;\n",
    "            \"\"\", conn)"
   ]
  },
  {
   "cell_type": "markdown",
   "metadata": {},
   "source": [
    "Now, if we were to read `title` from a user, and adversary user could write: \n",
    "\n",
    "```SQL\n",
    "a';DROP TABLE invoice_items;\n",
    "```"
   ]
  },
  {
   "cell_type": "code",
   "execution_count": 9,
   "metadata": {
    "collapsed": false
   },
   "outputs": [
    {
     "name": "stdout",
     "output_type": "stream",
     "text": [
      "SELECT * FROM albums WHERE Title = 'a';DROP TABLE invoice_items;'\n"
     ]
    },
    {
     "ename": "OperationalError",
     "evalue": "no such table: invoice_items",
     "output_type": "error",
     "traceback": [
      "\u001b[0;31m---------------------------------------------------------------------------\u001b[0m",
      "\u001b[0;31mOperationalError\u001b[0m                          Traceback (most recent call last)",
      "\u001b[0;32m<ipython-input-9-f1d1a037d7d9>\u001b[0m in \u001b[0;36m<module>\u001b[0;34m()\u001b[0m\n\u001b[1;32m      1\u001b[0m \u001b[0mtitle\u001b[0m \u001b[0;34m=\u001b[0m \u001b[0;34m\"a';DROP TABLE invoice_items;\"\u001b[0m\u001b[0;34m\u001b[0m\u001b[0m\n\u001b[1;32m      2\u001b[0m \u001b[0mprint\u001b[0m\u001b[0;34m(\u001b[0m\u001b[0;34m\"\"\"SELECT * FROM albums WHERE Title = '\"\"\"\u001b[0m \u001b[0;34m+\u001b[0m \u001b[0mtitle\u001b[0m \u001b[0;34m+\u001b[0m \u001b[0;34m\"'\"\u001b[0m\u001b[0;34m)\u001b[0m\u001b[0;34m\u001b[0m\u001b[0m\n\u001b[0;32m----> 3\u001b[0;31m \u001b[0mc\u001b[0m\u001b[0;34m.\u001b[0m\u001b[0mexecutescript\u001b[0m\u001b[0;34m(\u001b[0m\u001b[0;34m\"\"\"SELECT * FROM albums WHERE Title = '\"\"\"\u001b[0m \u001b[0;34m+\u001b[0m \u001b[0mtitle\u001b[0m \u001b[0;34m+\u001b[0m \u001b[0;34m\"'\"\u001b[0m\u001b[0;34m)\u001b[0m\u001b[0;34m\u001b[0m\u001b[0m\n\u001b[0m",
      "\u001b[0;31mOperationalError\u001b[0m: no such table: invoice_items"
     ]
    }
   ],
   "source": [
    "title = \"a';DROP TABLE invoice_items;\"\n",
    "print(\"\"\"SELECT * FROM albums WHERE Title = '\"\"\" + title + \"'\")\n",
    "c.executescript(\"\"\"SELECT * FROM albums WHERE Title = '\"\"\" + title + \"'\")"
   ]
  },
  {
   "cell_type": "markdown",
   "metadata": {},
   "source": [
    "This throws an error, but the table is gone:"
   ]
  },
  {
   "cell_type": "code",
   "execution_count": 10,
   "metadata": {
    "collapsed": false
   },
   "outputs": [
    {
     "data": {
      "text/html": [
       "<div>\n",
       "<table border=\"1\" class=\"dataframe\">\n",
       "  <thead>\n",
       "    <tr style=\"text-align: right;\">\n",
       "      <th></th>\n",
       "      <th>name</th>\n",
       "    </tr>\n",
       "  </thead>\n",
       "  <tbody>\n",
       "    <tr>\n",
       "      <th>0</th>\n",
       "      <td>albums</td>\n",
       "    </tr>\n",
       "    <tr>\n",
       "      <th>1</th>\n",
       "      <td>artists</td>\n",
       "    </tr>\n",
       "    <tr>\n",
       "      <th>2</th>\n",
       "      <td>customers</td>\n",
       "    </tr>\n",
       "    <tr>\n",
       "      <th>3</th>\n",
       "      <td>employees</td>\n",
       "    </tr>\n",
       "    <tr>\n",
       "      <th>4</th>\n",
       "      <td>genres</td>\n",
       "    </tr>\n",
       "    <tr>\n",
       "      <th>5</th>\n",
       "      <td>invoices</td>\n",
       "    </tr>\n",
       "    <tr>\n",
       "      <th>6</th>\n",
       "      <td>media_types</td>\n",
       "    </tr>\n",
       "    <tr>\n",
       "      <th>7</th>\n",
       "      <td>playlist_track</td>\n",
       "    </tr>\n",
       "    <tr>\n",
       "      <th>8</th>\n",
       "      <td>playlists</td>\n",
       "    </tr>\n",
       "    <tr>\n",
       "      <th>9</th>\n",
       "      <td>sqlite_sequence</td>\n",
       "    </tr>\n",
       "    <tr>\n",
       "      <th>10</th>\n",
       "      <td>sqlite_stat1</td>\n",
       "    </tr>\n",
       "    <tr>\n",
       "      <th>11</th>\n",
       "      <td>tracks</td>\n",
       "    </tr>\n",
       "  </tbody>\n",
       "</table>\n",
       "</div>"
      ],
      "text/plain": [
       "               name\n",
       "0            albums\n",
       "1           artists\n",
       "2         customers\n",
       "3         employees\n",
       "4            genres\n",
       "5          invoices\n",
       "6       media_types\n",
       "7    playlist_track\n",
       "8         playlists\n",
       "9   sqlite_sequence\n",
       "10     sqlite_stat1\n",
       "11           tracks"
      ]
     },
     "execution_count": 10,
     "metadata": {},
     "output_type": "execute_result"
    }
   ],
   "source": [
    "pd.read_sql(\"\"\"SELECT name FROM sqlite_master\n",
    "            WHERE type='table'\n",
    "            ORDER BY name;\n",
    "            \"\"\", conn)"
   ]
  },
  {
   "cell_type": "markdown",
   "metadata": {},
   "source": [
    "Instead, you should use a ? for substitution, and pass in a tuple. This will make sure that no additional statements will be executed. "
   ]
  },
  {
   "cell_type": "code",
   "execution_count": 11,
   "metadata": {
    "collapsed": false
   },
   "outputs": [
    {
     "ename": "TypeError",
     "evalue": "function takes exactly 1 argument (2 given)",
     "output_type": "error",
     "traceback": [
      "\u001b[0;31m---------------------------------------------------------------------------\u001b[0m",
      "\u001b[0;31mTypeError\u001b[0m                                 Traceback (most recent call last)",
      "\u001b[0;32m<ipython-input-11-89db63faf6e0>\u001b[0m in \u001b[0;36m<module>\u001b[0;34m()\u001b[0m\n\u001b[1;32m      1\u001b[0m \u001b[0mtitle\u001b[0m \u001b[0;34m=\u001b[0m \u001b[0;34m(\u001b[0m\u001b[0;34m\"a';DROP TABLE invoice_items;\"\u001b[0m\u001b[0;34m,\u001b[0m\u001b[0;34m)\u001b[0m\u001b[0;34m\u001b[0m\u001b[0m\n\u001b[1;32m      2\u001b[0m \u001b[0;31m# this will result in an error\u001b[0m\u001b[0;34m\u001b[0m\u001b[0;34m\u001b[0m\u001b[0m\n\u001b[0;32m----> 3\u001b[0;31m \u001b[0mc\u001b[0m\u001b[0;34m.\u001b[0m\u001b[0mexecutescript\u001b[0m\u001b[0;34m(\u001b[0m\u001b[0;34m'SELECT * FROM albums WHERE title=?'\u001b[0m\u001b[0;34m,\u001b[0m \u001b[0mtitle\u001b[0m\u001b[0;34m)\u001b[0m\u001b[0;34m\u001b[0m\u001b[0m\n\u001b[0m",
      "\u001b[0;31mTypeError\u001b[0m: function takes exactly 1 argument (2 given)"
     ]
    }
   ],
   "source": [
    "title = (\"a';DROP TABLE invoice_items;\",)\n",
    "# this will result in an error\n",
    "c.executescript('SELECT * FROM albums WHERE title=?', title)"
   ]
  },
  {
   "cell_type": "markdown",
   "metadata": {},
   "source": [
    "Here is a working example with safe code:"
   ]
  },
  {
   "cell_type": "code",
   "execution_count": 12,
   "metadata": {
    "collapsed": false
   },
   "outputs": [
    {
     "data": {
      "text/plain": [
       "(5, 'Big Ones', 3)"
      ]
     },
     "execution_count": 12,
     "metadata": {},
     "output_type": "execute_result"
    }
   ],
   "source": [
    "title = (\"Big Ones\",)\n",
    "# this will result in an error\n",
    "c.execute('SELECT * FROM albums WHERE title=?', title)\n",
    "c.fetchone()"
   ]
  },
  {
   "cell_type": "markdown",
   "metadata": {},
   "source": [
    "Of course that's not all to say about making your code secure, but it's a start! "
   ]
  },
  {
   "cell_type": "markdown",
   "metadata": {},
   "source": [
    "![](exploits_of_a_mom.png)"
   ]
  },
  {
   "cell_type": "markdown",
   "metadata": {},
   "source": [
    "## Aggregating Queries\n",
    "\n",
    "There are many ways to aggregate and group by with SQL, and we won't be able to cover them in detail. We'll use a simple example for an `INNER JOIN` to resolve a foreign key relationship here.\n",
    "\n",
    "We want to query tracks from the tracks table and add the titles of the tracks into the resulting table.  Let's take a looks at the tracks table:"
   ]
  },
  {
   "cell_type": "code",
   "execution_count": null,
   "metadata": {
    "collapsed": false
   },
   "outputs": [],
   "source": [
    "pd.read_sql(\"\"\"SELECT * FROM tracks;\"\"\", conn).head(5)"
   ]
  },
  {
   "cell_type": "markdown",
   "metadata": {},
   "source": [
    "This is the relationship we care about:\n",
    "\n",
    "![](albums_tracks_tables.jpg)\n",
    "\n",
    "An INNER JOIN simply merges tables based on a primary key / foreign key relationship. \n",
    "\n",
    "Here is an example:"
   ]
  },
  {
   "cell_type": "code",
   "execution_count": 13,
   "metadata": {
    "collapsed": false
   },
   "outputs": [
    {
     "data": {
      "text/html": [
       "<div>\n",
       "<table border=\"1\" class=\"dataframe\">\n",
       "  <thead>\n",
       "    <tr style=\"text-align: right;\">\n",
       "      <th></th>\n",
       "      <th>TrackId</th>\n",
       "      <th>Track Name</th>\n",
       "      <th>Album Title</th>\n",
       "    </tr>\n",
       "  </thead>\n",
       "  <tbody>\n",
       "    <tr>\n",
       "      <th>0</th>\n",
       "      <td>1</td>\n",
       "      <td>For Those About To Rock (We Salute You)</td>\n",
       "      <td>For Those About To Rock We Salute You</td>\n",
       "    </tr>\n",
       "    <tr>\n",
       "      <th>1</th>\n",
       "      <td>6</td>\n",
       "      <td>Put The Finger On You</td>\n",
       "      <td>For Those About To Rock We Salute You</td>\n",
       "    </tr>\n",
       "    <tr>\n",
       "      <th>2</th>\n",
       "      <td>7</td>\n",
       "      <td>Let's Get It Up</td>\n",
       "      <td>For Those About To Rock We Salute You</td>\n",
       "    </tr>\n",
       "    <tr>\n",
       "      <th>3</th>\n",
       "      <td>8</td>\n",
       "      <td>Inject The Venom</td>\n",
       "      <td>For Those About To Rock We Salute You</td>\n",
       "    </tr>\n",
       "    <tr>\n",
       "      <th>4</th>\n",
       "      <td>9</td>\n",
       "      <td>Snowballed</td>\n",
       "      <td>For Those About To Rock We Salute You</td>\n",
       "    </tr>\n",
       "    <tr>\n",
       "      <th>5</th>\n",
       "      <td>10</td>\n",
       "      <td>Evil Walks</td>\n",
       "      <td>For Those About To Rock We Salute You</td>\n",
       "    </tr>\n",
       "    <tr>\n",
       "      <th>6</th>\n",
       "      <td>11</td>\n",
       "      <td>C.O.D.</td>\n",
       "      <td>For Those About To Rock We Salute You</td>\n",
       "    </tr>\n",
       "    <tr>\n",
       "      <th>7</th>\n",
       "      <td>12</td>\n",
       "      <td>Breaking The Rules</td>\n",
       "      <td>For Those About To Rock We Salute You</td>\n",
       "    </tr>\n",
       "    <tr>\n",
       "      <th>8</th>\n",
       "      <td>13</td>\n",
       "      <td>Night Of The Long Knives</td>\n",
       "      <td>For Those About To Rock We Salute You</td>\n",
       "    </tr>\n",
       "    <tr>\n",
       "      <th>9</th>\n",
       "      <td>14</td>\n",
       "      <td>Spellbound</td>\n",
       "      <td>For Those About To Rock We Salute You</td>\n",
       "    </tr>\n",
       "    <tr>\n",
       "      <th>10</th>\n",
       "      <td>2</td>\n",
       "      <td>Balls to the Wall</td>\n",
       "      <td>Balls to the Wall</td>\n",
       "    </tr>\n",
       "    <tr>\n",
       "      <th>11</th>\n",
       "      <td>3</td>\n",
       "      <td>Fast As a Shark</td>\n",
       "      <td>Restless and Wild</td>\n",
       "    </tr>\n",
       "    <tr>\n",
       "      <th>12</th>\n",
       "      <td>4</td>\n",
       "      <td>Restless and Wild</td>\n",
       "      <td>Restless and Wild</td>\n",
       "    </tr>\n",
       "    <tr>\n",
       "      <th>13</th>\n",
       "      <td>5</td>\n",
       "      <td>Princess of the Dawn</td>\n",
       "      <td>Restless and Wild</td>\n",
       "    </tr>\n",
       "    <tr>\n",
       "      <th>14</th>\n",
       "      <td>15</td>\n",
       "      <td>Go Down</td>\n",
       "      <td>Let There Be Rock</td>\n",
       "    </tr>\n",
       "    <tr>\n",
       "      <th>15</th>\n",
       "      <td>16</td>\n",
       "      <td>Dog Eat Dog</td>\n",
       "      <td>Let There Be Rock</td>\n",
       "    </tr>\n",
       "    <tr>\n",
       "      <th>16</th>\n",
       "      <td>17</td>\n",
       "      <td>Let There Be Rock</td>\n",
       "      <td>Let There Be Rock</td>\n",
       "    </tr>\n",
       "    <tr>\n",
       "      <th>17</th>\n",
       "      <td>18</td>\n",
       "      <td>Bad Boy Boogie</td>\n",
       "      <td>Let There Be Rock</td>\n",
       "    </tr>\n",
       "    <tr>\n",
       "      <th>18</th>\n",
       "      <td>19</td>\n",
       "      <td>Problem Child</td>\n",
       "      <td>Let There Be Rock</td>\n",
       "    </tr>\n",
       "    <tr>\n",
       "      <th>19</th>\n",
       "      <td>20</td>\n",
       "      <td>Overdose</td>\n",
       "      <td>Let There Be Rock</td>\n",
       "    </tr>\n",
       "  </tbody>\n",
       "</table>\n",
       "</div>"
      ],
      "text/plain": [
       "    TrackId                               Track Name  \\\n",
       "0         1  For Those About To Rock (We Salute You)   \n",
       "1         6                    Put The Finger On You   \n",
       "2         7                          Let's Get It Up   \n",
       "3         8                         Inject The Venom   \n",
       "4         9                               Snowballed   \n",
       "5        10                               Evil Walks   \n",
       "6        11                                   C.O.D.   \n",
       "7        12                       Breaking The Rules   \n",
       "8        13                 Night Of The Long Knives   \n",
       "9        14                               Spellbound   \n",
       "10        2                        Balls to the Wall   \n",
       "11        3                          Fast As a Shark   \n",
       "12        4                        Restless and Wild   \n",
       "13        5                     Princess of the Dawn   \n",
       "14       15                                  Go Down   \n",
       "15       16                              Dog Eat Dog   \n",
       "16       17                        Let There Be Rock   \n",
       "17       18                           Bad Boy Boogie   \n",
       "18       19                            Problem Child   \n",
       "19       20                                 Overdose   \n",
       "\n",
       "                              Album Title  \n",
       "0   For Those About To Rock We Salute You  \n",
       "1   For Those About To Rock We Salute You  \n",
       "2   For Those About To Rock We Salute You  \n",
       "3   For Those About To Rock We Salute You  \n",
       "4   For Those About To Rock We Salute You  \n",
       "5   For Those About To Rock We Salute You  \n",
       "6   For Those About To Rock We Salute You  \n",
       "7   For Those About To Rock We Salute You  \n",
       "8   For Those About To Rock We Salute You  \n",
       "9   For Those About To Rock We Salute You  \n",
       "10                      Balls to the Wall  \n",
       "11                      Restless and Wild  \n",
       "12                      Restless and Wild  \n",
       "13                      Restless and Wild  \n",
       "14                      Let There Be Rock  \n",
       "15                      Let There Be Rock  \n",
       "16                      Let There Be Rock  \n",
       "17                      Let There Be Rock  \n",
       "18                      Let There Be Rock  \n",
       "19                      Let There Be Rock  "
      ]
     },
     "execution_count": 13,
     "metadata": {},
     "output_type": "execute_result"
    }
   ],
   "source": [
    "pd.read_sql(\"\"\"SELECT\n",
    " trackid,\n",
    " name as \"Track Name\",\n",
    " title as \"Album Title\"\n",
    "FROM\n",
    " tracks\n",
    "INNER JOIN albums ON albums.albumid = tracks.albumid;\"\"\", conn).head(20)"
   ]
  },
  {
   "cell_type": "markdown",
   "metadata": {},
   "source": [
    "Let's take this statement apart:\n",
    "\n",
    "```SQL\n",
    " SELECT\n",
    " trackid,\n",
    " name as \"Track Name\",\n",
    " title as \"Album Title\"\n",
    "```\n",
    "Here, we chose what to select, and we also rename the columns for presentation purposes with the `as` statement. Note that we use column names from both tables, the tracks and the album table! \n",
    "\n",
    "```SQL\n",
    "FROM\n",
    " tracks\n",
    "INNER JOIN albums ON albums.albumid = tracks.albumid;\n",
    "```\n",
    "\n",
    "This is where the magic happens: we say that the tracks and albums table should be joined on the `albums.albumid = tracks.albumid` relationship.\n",
    "\n"
   ]
  },
  {
   "cell_type": "markdown",
   "metadata": {},
   "source": [
    "Using INNER JOIN, you can construct flat tables out of databases that you then can use in the data science process. SQL is of course much more powerful, you can do mathematical operations, group-by/aggregates, etc. However, we can do most of this on a dataframe also, but doing a join like that would be rather painful without the INNER JOIN SQL statement."
   ]
  }
 ],
 "metadata": {
  "anaconda-cloud": {},
  "kernelspec": {
   "display_name": "Python [Root]",
   "language": "python",
   "name": "Python [Root]"
  },
  "language_info": {
   "codemirror_mode": {
    "name": "ipython",
    "version": 3
   },
   "file_extension": ".py",
   "mimetype": "text/x-python",
   "name": "python",
   "nbconvert_exporter": "python",
   "pygments_lexer": "ipython3",
   "version": "3.5.1"
  }
 },
 "nbformat": 4,
 "nbformat_minor": 0
}
